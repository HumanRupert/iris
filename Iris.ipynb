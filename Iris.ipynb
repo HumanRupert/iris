{
 "cells": [
  {
   "cell_type": "code",
   "execution_count": 2,
   "metadata": {},
   "outputs": [],
   "source": [
    "import pandas as pd\n",
    "import numpy as np\n",
    "import scipy.stats as stats\n",
    "import seaborn as sns\n",
    "from matplotlib import pyplot as plt\n",
    "from sklearn.linear_model import LinearRegression as linreg\n",
    "from statsmodels.stats.multicomp import pairwise_tukeyhsd\n",
    "from sklearn.metrics import mean_squared_error as MSE\n",
    "from sklearn.metrics import r2_score as r2\n",
    "from sklearn.metrics import f1_score\n",
    "from sklearn.neighbors import KNeighborsClassifier as KN\n",
    "from sklearn.datasets import load_iris\n",
    "from sklearn.model_selection import train_test_split\n",
    "from sklearn.metrics import confusion_matrix, classification_report\n",
    "from sklearn.cluster import KMeans as KM\n",
    "from mpl_toolkits.mplot3d import axes3d"
   ]
  },
  {
   "cell_type": "code",
   "execution_count": 3,
   "metadata": {},
   "outputs": [
    {
     "data": {
      "text/plain": [
       "['sepal_length', 'sepal_width', 'petal_length', 'petal_width', 'name']"
      ]
     },
     "execution_count": 3,
     "metadata": {},
     "output_type": "execute_result"
    }
   ],
   "source": [
    "iris = pd.read_csv('Iris.csv', names =  ['sepal_length', 'sepal_width', 'petal_length', 'petal_width', 'name'])\n",
    "list(iris)"
   ]
  },
  {
   "cell_type": "code",
   "execution_count": 4,
   "metadata": {},
   "outputs": [
    {
     "name": "stdout",
     "output_type": "stream",
     "text": [
      "   sepal_length  sepal_width  petal_length  petal_width         name\n",
      "0           5.1          3.5           1.4          0.2  Iris-setosa\n",
      "1           4.9          3.0           1.4          0.2  Iris-setosa\n",
      "2           4.7          3.2           1.3          0.2  Iris-setosa\n",
      "3           4.6          3.1           1.5          0.2  Iris-setosa\n",
      "4           5.0          3.6           1.4          0.2  Iris-setosa\n"
     ]
    }
   ],
   "source": [
    "print(iris.head(5))"
   ]
  },
  {
   "cell_type": "code",
   "execution_count": 5,
   "metadata": {},
   "outputs": [
    {
     "name": "stdout",
     "output_type": "stream",
     "text": [
      "['Iris-setosa' 'Iris-versicolor' 'Iris-virginica']\n",
      "   sepal_length  sepal_width  petal_length  petal_width         name\n",
      "0           5.1          3.5           1.4          0.2  Iris-setosa\n",
      "1           4.9          3.0           1.4          0.2  Iris-setosa\n",
      "   sepal_length  sepal_width  petal_length  petal_width             name\n",
      "0           7.0          3.2           4.7          1.4  Iris-versicolor\n",
      "1           6.4          3.2           4.5          1.5  Iris-versicolor\n",
      "   sepal_length  sepal_width  petal_length  petal_width            name\n",
      "0           6.3          3.3           6.0          2.5  Iris-virginica\n",
      "1           5.8          2.7           5.1          1.9  Iris-virginica\n"
     ]
    }
   ],
   "source": [
    "print(iris.name.unique())\n",
    "setosa = iris[iris.name == 'Iris-setosa'].reset_index(drop=True)\n",
    "print(setosa.head(2))\n",
    "versicolor = iris[iris.name == 'Iris-versicolor'].reset_index(drop=True)\n",
    "print(versicolor.head(2))\n",
    "virginica = iris[iris.name == 'Iris-virginica'].reset_index(drop=True)\n",
    "print(virginica.head(2))"
   ]
  },
  {
   "cell_type": "markdown",
   "metadata": {},
   "source": [
    "# Functions"
   ]
  },
  {
   "cell_type": "code",
   "execution_count": 6,
   "metadata": {},
   "outputs": [],
   "source": [
    "def mean(x):\n",
    "    mu = [x[0].mean(), x[1].mean(), x[2].mean(), x[3].mean()]\n",
    "    mean = [ '%.3f' % elem for elem in mu]\n",
    "    mean = [float(x) for x in mean]\n",
    "    return mean\n",
    "def std(x):\n",
    "    s = [x[0].std(), x[1].std(), x[2].std(), x[3].std()]\n",
    "    std = [ '%.3f' % elem for elem in s]\n",
    "    std = [float(x) for x in std]\n",
    "    return std\n",
    "def minimum(x):\n",
    "    minimum = [x[0].min(), x[1].min(), x[2].min(), x[3].min()]\n",
    "    return minimum\n",
    "def maximum(x):\n",
    "    maximum = [x[0].max(), x[1].max(), x[2].max(), x[3].max()]\n",
    "    return maximum"
   ]
  },
  {
   "cell_type": "markdown",
   "metadata": {},
   "source": [
    "# Analyzing Iris Setosa"
   ]
  },
  {
   "cell_type": "markdown",
   "metadata": {},
   "source": [
    "**Mean**"
   ]
  },
  {
   "cell_type": "code",
   "execution_count": 7,
   "metadata": {},
   "outputs": [
    {
     "name": "stdout",
     "output_type": "stream",
     "text": [
      "5.006 3.428 1.462 0.246\n"
     ]
    }
   ],
   "source": [
    "setosa_s_l_mean = round(setosa['sepal_length'].mean(), 3)\n",
    "setosa_s_w_mean = round(setosa['sepal_width'].mean(), 3)\n",
    "setosa_p_l_mean = round(setosa['petal_length'].mean(), 3)\n",
    "setosa_p_w_mean = round(setosa['petal_width'].mean(), 3)\n",
    "print(setosa_s_l_mean, setosa_s_w_mean, setosa_p_l_mean, setosa_p_w_mean)\n"
   ]
  },
  {
   "cell_type": "markdown",
   "metadata": {},
   "source": [
    "**Standard Deviation**"
   ]
  },
  {
   "cell_type": "code",
   "execution_count": 8,
   "metadata": {},
   "outputs": [
    {
     "name": "stdout",
     "output_type": "stream",
     "text": [
      "0.352 0.379 0.174 0.105\n"
     ]
    }
   ],
   "source": [
    "setosa_s_l_std = round(setosa['sepal_length'].std(), 3)\n",
    "setosa_s_w_std = round(setosa['sepal_width'].std(), 3)\n",
    "setosa_p_l_std = round(setosa['petal_length'].std(), 3)\n",
    "setosa_p_w_std = round(setosa['petal_width'].std(), 3)\n",
    "print(setosa_s_l_std, setosa_s_w_std, setosa_p_l_std, setosa_p_w_std)"
   ]
  },
  {
   "cell_type": "markdown",
   "metadata": {},
   "source": [
    "** Min & Max **"
   ]
  },
  {
   "cell_type": "code",
   "execution_count": 9,
   "metadata": {},
   "outputs": [
    {
     "name": "stdout",
     "output_type": "stream",
     "text": [
      "min\n",
      "4.3 2.3 1.0 1.0\n",
      "max\n",
      "5.8 4.4 1.9 0.6\n"
     ]
    }
   ],
   "source": [
    "setosa_s_l_min = round(setosa['sepal_length'].min(), 3)\n",
    "setosa_s_w_min = round(setosa['sepal_width'].min(), 3)\n",
    "setosa_p_l_min = round(setosa['petal_length'].min(), 3)\n",
    "setosa_p_w_min = round(setosa['petal_width'].min(),3)\n",
    "setosa_s_l_max = round(setosa['sepal_length'].max(),3)\n",
    "setosa_s_w_max = round(setosa['sepal_width'].max(),3)\n",
    "setosa_p_l_max = round(setosa['petal_length'].max(), 3)\n",
    "setosa_p_w_max = round(setosa['petal_width'].max(), 3)\n",
    "print('min')\n",
    "print(setosa_s_l_min, setosa_s_w_min, setosa_p_l_min, setosa_p_l_min)\n",
    "print('max')\n",
    "print(setosa_s_l_max,setosa_s_w_max,setosa_p_l_max,setosa_p_w_max)"
   ]
  },
  {
   "cell_type": "markdown",
   "metadata": {},
   "source": [
    "** Summary **"
   ]
  },
  {
   "cell_type": "code",
   "execution_count": 10,
   "metadata": {},
   "outputs": [
    {
     "name": "stdout",
     "output_type": "stream",
     "text": [
      "                 Min  Max  Mean   STD\n",
      "0  Sepal Length  4.3  5.8  5.01  0.35\n",
      "1   Sepal Width  2.3  4.4  3.43  0.38\n",
      "2  Petal Length  1.0  1.9  1.46  0.17\n",
      "3   Petal Width  0.1  0.6  0.25  0.11\n"
     ]
    }
   ],
   "source": [
    "dic1 = {' ': ['Sepal Length', 'Sepal Width', 'Petal Length', 'Petal Width'],\n",
    "         'Min': [round(setosa['sepal_length'].min(), 2), round(setosa['sepal_width'].min(), 2), round(setosa['petal_length'].min(), 2), round(setosa['petal_width'].min(), 2)],\n",
    "         'Max': [round(setosa['sepal_length'].max(), 2), round(setosa['sepal_width'].max(), 2), round(setosa['petal_length'].max(), 2), round(setosa['petal_width'].max(), 2)],\n",
    "         'Mean': [round(setosa['sepal_length'].mean(), 2), round(setosa['sepal_width'].mean(), 2), round(setosa['petal_length'].mean(), 2), round(setosa['petal_width'].mean(), 2)],\n",
    "         'STD': [round(setosa['sepal_length'].std(), 2), round(setosa['sepal_width'].std(), 2), round(setosa['petal_length'].std(), 2), round(setosa['petal_width'].std(), 2)] } \n",
    "summarysetosa = pd.DataFrame.from_dict(dic1)\n",
    "print(summarysetosa)"
   ]
  },
  {
   "cell_type": "markdown",
   "metadata": {},
   "source": [
    "# Analyzing Iris Versicolor"
   ]
  },
  {
   "cell_type": "code",
   "execution_count": 11,
   "metadata": {},
   "outputs": [],
   "source": [
    "v_data = np.array([versicolor['sepal_length'], versicolor['sepal_width'], versicolor['petal_length'], versicolor['petal_width']])"
   ]
  },
  {
   "cell_type": "markdown",
   "metadata": {},
   "source": [
    "** Mean **"
   ]
  },
  {
   "cell_type": "code",
   "execution_count": 12,
   "metadata": {},
   "outputs": [
    {
     "name": "stdout",
     "output_type": "stream",
     "text": [
      "[5.936, 2.77, 4.26, 1.326]\n"
     ]
    }
   ],
   "source": [
    "print (mean(v_data))"
   ]
  },
  {
   "cell_type": "markdown",
   "metadata": {},
   "source": [
    "** Standard Deviation **"
   ]
  },
  {
   "cell_type": "code",
   "execution_count": 13,
   "metadata": {},
   "outputs": [
    {
     "name": "stdout",
     "output_type": "stream",
     "text": [
      "[0.511, 0.311, 0.465, 0.196]\n"
     ]
    }
   ],
   "source": [
    "print(std(v_data))"
   ]
  },
  {
   "cell_type": "markdown",
   "metadata": {},
   "source": [
    "** Maximum **"
   ]
  },
  {
   "cell_type": "code",
   "execution_count": 14,
   "metadata": {},
   "outputs": [
    {
     "name": "stdout",
     "output_type": "stream",
     "text": [
      "[7.0, 3.4, 5.1, 1.8]\n"
     ]
    }
   ],
   "source": [
    "print (maximum(v_data))"
   ]
  },
  {
   "cell_type": "markdown",
   "metadata": {},
   "source": [
    "** Minimum **"
   ]
  },
  {
   "cell_type": "code",
   "execution_count": 15,
   "metadata": {},
   "outputs": [
    {
     "name": "stdout",
     "output_type": "stream",
     "text": [
      "[4.9, 2.0, 3.0, 1.0]\n"
     ]
    }
   ],
   "source": [
    "print (minimum(v_data))"
   ]
  },
  {
   "cell_type": "markdown",
   "metadata": {},
   "source": [
    "** Summary **"
   ]
  },
  {
   "cell_type": "code",
   "execution_count": 16,
   "metadata": {},
   "outputs": [
    {
     "name": "stdout",
     "output_type": "stream",
     "text": [
      "                 Min  Max  Mean   STD\n",
      "0  Sepal Length  4.9  7.0  5.94  0.52\n",
      "1   Sepal Width  2.0  3.4  2.77  0.31\n",
      "2  Petal Length  3.0  5.1  4.26  0.47\n",
      "3   Petal Width  1.0  1.8  1.33  0.20\n"
     ]
    }
   ],
   "source": [
    "dic2 = {' ': ['Sepal Length', 'Sepal Width', 'Petal Length', 'Petal Width'],\n",
    "         'Min': [round(versicolor['sepal_length'].min(), 2), round(versicolor['sepal_width'].min(), 2), round(versicolor['petal_length'].min(), 2), round(versicolor['petal_width'].min(), 2)],\n",
    "         'Max': [round(versicolor['sepal_length'].max(), 2), round(versicolor['sepal_width'].max(), 2), round(versicolor['petal_length'].max(), 2), round(versicolor['petal_width'].max(), 2)],\n",
    "         'Mean': [round(versicolor['sepal_length'].mean(), 2), round(versicolor['sepal_width'].mean(), 2), round(versicolor['petal_length'].mean(), 2), round(versicolor['petal_width'].mean(), 2)],\n",
    "         'STD': [round(versicolor['sepal_length'].std(), 2), round(versicolor['sepal_width'].std(), 2), round(versicolor['petal_length'].std(), 2), round(versicolor['petal_width'].std(), 2)] } \n",
    "summaryversicolor = pd.DataFrame.from_dict(dic2)\n",
    "print(summaryversicolor)"
   ]
  },
  {
   "cell_type": "markdown",
   "metadata": {},
   "source": [
    "# Analyzing Iris Virginica"
   ]
  },
  {
   "cell_type": "code",
   "execution_count": 17,
   "metadata": {},
   "outputs": [],
   "source": [
    "vi_data = np.array([virginica['sepal_length'], virginica['sepal_width'], virginica['petal_length'], virginica['petal_width']])"
   ]
  },
  {
   "cell_type": "markdown",
   "metadata": {},
   "source": [
    "** Mean **"
   ]
  },
  {
   "cell_type": "code",
   "execution_count": 18,
   "metadata": {},
   "outputs": [
    {
     "name": "stdout",
     "output_type": "stream",
     "text": [
      "[6.588, 2.974, 5.552, 2.026]\n"
     ]
    }
   ],
   "source": [
    "print(mean(vi_data))"
   ]
  },
  {
   "cell_type": "markdown",
   "metadata": {},
   "source": [
    "** Standard Deviation **"
   ]
  },
  {
   "cell_type": "code",
   "execution_count": 19,
   "metadata": {},
   "outputs": [
    {
     "name": "stdout",
     "output_type": "stream",
     "text": [
      "[0.629, 0.319, 0.546, 0.272]\n"
     ]
    }
   ],
   "source": [
    "print(std(vi_data))"
   ]
  },
  {
   "cell_type": "markdown",
   "metadata": {},
   "source": [
    "** Minimum **"
   ]
  },
  {
   "cell_type": "code",
   "execution_count": 20,
   "metadata": {},
   "outputs": [
    {
     "name": "stdout",
     "output_type": "stream",
     "text": [
      "[4.9, 2.2, 4.5, 1.4]\n"
     ]
    }
   ],
   "source": [
    "print(minimum(vi_data))"
   ]
  },
  {
   "cell_type": "markdown",
   "metadata": {},
   "source": [
    "** Maximum **"
   ]
  },
  {
   "cell_type": "code",
   "execution_count": 21,
   "metadata": {},
   "outputs": [
    {
     "name": "stdout",
     "output_type": "stream",
     "text": [
      "[7.9, 3.8, 6.9, 2.5]\n"
     ]
    }
   ],
   "source": [
    "print(maximum(vi_data))"
   ]
  },
  {
   "cell_type": "markdown",
   "metadata": {},
   "source": [
    "** Summary **"
   ]
  },
  {
   "cell_type": "code",
   "execution_count": 22,
   "metadata": {},
   "outputs": [
    {
     "name": "stdout",
     "output_type": "stream",
     "text": [
      "                 Min  Max  Mean   STD\n",
      "0  Sepal Length  4.9  7.9  6.59  0.64\n",
      "1   Sepal Width  2.2  3.8  2.97  0.32\n",
      "2  Petal Length  4.5  6.9  5.55  0.55\n",
      "3   Petal Width  1.4  2.5  2.03  0.27\n"
     ]
    }
   ],
   "source": [
    "dic3 = {' ': ['Sepal Length', 'Sepal Width', 'Petal Length', 'Petal Width'],\n",
    "         'Min': [round(virginica['sepal_length'].min(), 2), round(virginica['sepal_width'].min(), 2), round(virginica['petal_length'].min(), 2), round(virginica['petal_width'].min(), 2)],\n",
    "         'Max': [round(virginica['sepal_length'].max(), 2), round(virginica['sepal_width'].max(), 2), round(virginica['petal_length'].max(), 2), round(virginica['petal_width'].max(), 2)],\n",
    "         'Mean': [round(virginica['sepal_length'].mean(), 2), round(virginica['sepal_width'].mean(), 2), round(virginica['petal_length'].mean(), 2), round(virginica['petal_width'].mean(), 2)],\n",
    "         'STD': [round(virginica['sepal_length'].std(), 2), round(virginica['sepal_width'].std(), 2), round(virginica['petal_length'].std(), 2), round(virginica['petal_width'].std(), 2)] } \n",
    "summaryvirginica = pd.DataFrame.from_dict(dic3)\n",
    "print(summaryvirginica)"
   ]
  },
  {
   "cell_type": "markdown",
   "metadata": {},
   "source": [
    "# Aggregate Summary"
   ]
  },
  {
   "cell_type": "code",
   "execution_count": 23,
   "metadata": {},
   "outputs": [
    {
     "name": "stdout",
     "output_type": "stream",
     "text": [
      "                 Min  Max  Mean   STD\n",
      "0  Sepal Length  4.3  7.9  5.84  0.83\n",
      "1   Sepal Width  2.0  4.4  3.06  0.44\n",
      "2  Petal Length  1.0  6.9  3.76  1.77\n",
      "3   Petal Width  0.1  2.5  1.20  0.76\n"
     ]
    }
   ],
   "source": [
    "dic = {' ': ['Sepal Length', 'Sepal Width', 'Petal Length', 'Petal Width'],\n",
    "         'Min': [round(iris['sepal_length'].min(), 2), round(iris['sepal_width'].min(), 2), round(iris['petal_length'].min(), 2), round(iris['petal_width'].min(), 2)],\n",
    "         'Max': [round(iris['sepal_length'].max(), 2), round(iris['sepal_width'].max(), 2), round(iris['petal_length'].max(), 2), round(iris['petal_width'].max(), 2)],\n",
    "         'Mean': [round(iris['sepal_length'].mean(), 2), round(iris['sepal_width'].mean(), 2), round(iris['petal_length'].mean(), 2), round(iris['petal_width'].mean(), 2)],\n",
    "         'STD': [round(iris['sepal_length'].std(), 2), round(iris['sepal_width'].std(), 2), round(iris['petal_length'].std(), 2), round(iris['petal_width'].std(), 2)] } \n",
    "summary = pd.DataFrame.from_dict(dic)\n",
    "print(summary)"
   ]
  },
  {
   "cell_type": "markdown",
   "metadata": {},
   "source": [
    "# General Visualizations"
   ]
  },
  {
   "cell_type": "code",
   "execution_count": 24,
   "metadata": {},
   "outputs": [
    {
     "data": {
      "image/png": "[encoded data removed]",
      "text/plain": [
       "<Figure size 720x504 with 4 Axes>"
      ]
     },
     "metadata": {},
     "output_type": "display_data"
    },
    {
     "data": {
      "text/plain": [
       "<Figure size 432x288 with 0 Axes>"
      ]
     },
     "metadata": {},
     "output_type": "display_data"
    }
   ],
   "source": [
    "fig, axes = plt.subplots(2,2)\n",
    "sns.set_palette('Purples_r')\n",
    "ax1 = sns.barplot(data=iris, x='name', y = 'sepal_length', orient = 'v', ax=axes[0,0])\n",
    "ax1.set(ylabel = 'Sepal Length')\n",
    "ax2 = sns.barplot(data=iris, x='name', y = 'petal_length', orient = 'v', ax=axes[0,1])\n",
    "ax2.set(ylabel = 'Petal Length')\n",
    "ax3 = sns.barplot(data=iris, x='name', y = 'sepal_width', orient = 'v', ax=axes[1,0])\n",
    "ax3.set(ylabel = 'Sepal Width')\n",
    "ax4 = sns.barplot(data=iris, x='name', y = 'sepal_width', orient = 'v', ax=axes[1,1])\n",
    "ax4.set(ylabel = 'Petal Width')\n",
    "fig.set_size_inches(10, 7)\n",
    "plt.subplots_adjust(right=1, top=1)\n",
    "plt.show()\n",
    "plt.savefig('BarCharts.png')"
   ]
  },
  {
   "cell_type": "code",
   "execution_count": 25,
   "metadata": {},
   "outputs": [
    {
     "data": {
      "image/png": "[encoded data removed]",
      "text/plain": [
       "<Figure size 720x504 with 4 Axes>"
      ]
     },
     "metadata": {},
     "output_type": "display_data"
    },
    {
     "data": {
      "text/plain": [
       "<Figure size 432x288 with 0 Axes>"
      ]
     },
     "metadata": {},
     "output_type": "display_data"
    }
   ],
   "source": [
    "fig, axes = plt.subplots(2, 2)\n",
    "sns.set_palette('Purples_r')\n",
    "ax1 = sns.boxplot(data=iris, x='name', y = 'sepal_length',  orient='v' , ax=axes[0,0])\n",
    "ax1.set(ylabel = 'Sepal Length')\n",
    "ax2 = sns.boxplot(data=iris, x='name', y = 'petal_length',  orient='v' , ax=axes[0, 1])\n",
    "ax2.set(ylabel = 'Petal Length')\n",
    "ax3 = sns.boxplot(data=iris, x='name', y = 'sepal_width', orient='v' , ax=axes[1, 1])\n",
    "ax3.set(ylabel = 'Sepal Width')\n",
    "ax4 = sns.boxplot(data=iris, x='name', y = 'petal_width', orient='v' , ax=axes[1, 0])\n",
    "ax4.set(ylabel = 'Petal Width')\n",
    "fig.set_size_inches(10, 7)\n",
    "plt.subplots_adjust(right=1, top=1)\n",
    "plt.show()\n",
    "plt.savefig('Boxplot.png')"
   ]
  },
  {
   "cell_type": "markdown",
   "metadata": {},
   "source": [
    "# Hypothesis Testing"
   ]
  },
  {
   "cell_type": "markdown",
   "metadata": {},
   "source": [
    "** Hypothesis #1 **"
   ]
  },
  {
   "cell_type": "markdown",
   "metadata": {},
   "source": [
    "Sepal length mean of virginica is greater than the sepal length mean of versicolor."
   ]
  },
  {
   "cell_type": "markdown",
   "metadata": {},
   "source": [
    "**Null Hypothesis** : Mu (viriginica) <= Mu (versicolor)\n",
    "**Alternative Hypothesis** : Mu (virginica) > Mu (versicolor)"
   ]
  },
  {
   "cell_type": "code",
   "execution_count": 26,
   "metadata": {},
   "outputs": [
    {
     "name": "stdout",
     "output_type": "stream",
     "text": [
      "6.588 = virginica mean\n",
      "5.936 = versicolor mean\n",
      "0.636 = virginica std\n",
      "0.516 = versicolor std\n",
      "P value is equal to: 1.7248563024547942e-07\n",
      "NULL REJECTED!\n"
     ]
    }
   ],
   "source": [
    "slvirginica = virginica['sepal_length']\n",
    "slversicolor = versicolor['sepal_length']\n",
    "print(round(slvirginica.mean(), 3), '= virginica mean')\n",
    "print(slversicolor.mean(), '= versicolor mean')\n",
    "print(round(slvirginica.std(), 3), '= virginica std')\n",
    "print(round(slversicolor.std(), 3), '= versicolor std')\n",
    "t, p = stats.ttest_ind(slvirginica, slversicolor)\n",
    "print('P value is equal to:', p)\n",
    "if p < 0.05:\n",
    "    print('NULL REJECTED!')"
   ]
  },
  {
   "cell_type": "code",
   "execution_count": 27,
   "metadata": {},
   "outputs": [
    {
     "data": {
      "image/png": "[encoded data removed]",
      "text/plain": [
       "<Figure size 432x288 with 1 Axes>"
      ]
     },
     "metadata": {},
     "output_type": "display_data"
    }
   ],
   "source": [
    "sns.set_palette('Purples_r')\n",
    "sns.barplot(data=iris, x='name', y = 'sepal_length')\n",
    "plt.ylabel('Flower Name')\n",
    "plt.xlabel('Sepal Length')\n",
    "plt.title('Sepal Length by Iris Type')\n",
    "plt.show()"
   ]
  },
  {
   "cell_type": "markdown",
   "metadata": {},
   "source": [
    "** NULL HYPOTHESIS #1 REJECTED **"
   ]
  },
  {
   "cell_type": "markdown",
   "metadata": {},
   "source": [
    "** HYPOTHESIS #2 **"
   ]
  },
  {
   "cell_type": "markdown",
   "metadata": {},
   "source": [
    "**Null Hypothesis** : There is no correlation between sepal width and sepal length. **Alternative Hypothesis** : There is correlation between sepal width and sepal length."
   ]
  },
  {
   "cell_type": "code",
   "execution_count": 28,
   "metadata": {},
   "outputs": [
    {
     "data": {
      "image/png": "[encoded data removed]",
      "text/plain": [
       "<Figure size 432x288 with 1 Axes>"
      ]
     },
     "metadata": {},
     "output_type": "display_data"
    },
    {
     "data": {
      "image/png": "[encoded data removed]",
      "text/plain": [
       "<Figure size 432x288 with 1 Axes>"
      ]
     },
     "metadata": {},
     "output_type": "display_data"
    }
   ],
   "source": [
    "x1 = [1, 2.8, 4.6]\n",
    "x2 = [1.8, 3.6, 5.4]\n",
    "x= []\n",
    "for i in range(3):\n",
    "    x.append((x1[i]+x2[i])/2)\n",
    "x_ticks = [iris['name'].unique()]\n",
    "y1 = [setosa['sepal_width'].mean(), versicolor['sepal_width'].mean(), virginica['sepal_width'].mean()]\n",
    "y2 = [setosa['sepal_length'].mean(), versicolor['sepal_length'].mean(), virginica['sepal_length'].mean()]\n",
    "axis = plt.subplot()\n",
    "plt.bar(x1, y1)\n",
    "plt.bar(x2, y2)\n",
    "axis.set_xticks(x)\n",
    "axis.set_xticklabels(iris['name'].unique())\n",
    "plt.legend(['sepal width', 'sepal length'])\n",
    "plt.xlabel('Iris Type')\n",
    "plt.ylabel('cm')\n",
    "plt.show()\n",
    "plt.close('all')\n",
    "plt.plot(iris.sepal_width, iris.sepal_length, 'o')\n",
    "plt.xlabel('Sepal Width')\n",
    "plt.ylabel('Sepal Length')\n",
    "plt.show()"
   ]
  },
  {
   "cell_type": "code",
   "execution_count": 29,
   "metadata": {},
   "outputs": [
    {
     "name": "stdout",
     "output_type": "stream",
     "text": [
      "Correlation coefficient is equal to: -0.11756978413300201\n",
      "P value is equal to: 0.15189826071144916\n",
      "NULL ACCEPTED!\n"
     ]
    }
   ],
   "source": [
    "cc, pr = stats.pearsonr(iris['sepal_width'], iris['sepal_length'])\n",
    "print('Correlation coefficient is equal to:', cc)\n",
    "print('P value is equal to:', pr)\n",
    "if pr > 0.05:\n",
    "    print('NULL ACCEPTED!')"
   ]
  },
  {
   "cell_type": "markdown",
   "metadata": {},
   "source": [
    "** NULL HYPOTHESIS #2 ACCEPTED! **"
   ]
  },
  {
   "cell_type": "markdown",
   "metadata": {},
   "source": [
    "** Hypothesis #3 **"
   ]
  },
  {
   "cell_type": "markdown",
   "metadata": {},
   "source": [
    "There is a difference between sepal width of three flower types."
   ]
  },
  {
   "cell_type": "markdown",
   "metadata": {},
   "source": [
    "**Null Hypothesis** : There is no difference between sepal width of three flower types. **Alternative Hypothesis** : There is a difference between sepal width of three flower types."
   ]
  },
  {
   "cell_type": "code",
   "execution_count": 30,
   "metadata": {},
   "outputs": [
    {
     "name": "stdout",
     "output_type": "stream",
     "text": [
      "F Score is equal to: 49.16004008961206\n",
      "P value is equal to: 4.492017133309115e-17\n",
      "-------------\n",
      "  Multiple Comparison of Means - Tukey HSD,FWER=0.05 \n",
      "=====================================================\n",
      "  group1     group2   meandiff  lower   upper  reject\n",
      "-----------------------------------------------------\n",
      "  setosa   versicolor  -0.454  -0.6149 -0.2931  True \n",
      "  setosa   virginica   -0.658  -0.8189 -0.4971  True \n",
      "versicolor virginica   -0.204  -0.3649 -0.0431  True \n",
      "-----------------------------------------------------\n"
     ]
    }
   ],
   "source": [
    "se = ['setosa ' * len(setosa)]\n",
    "se = se[0].split(' ')\n",
    "se.remove(se[-1])\n",
    "vi = ['virginica ' * len(virginica)]\n",
    "vi = vi[0].split(' ')\n",
    "vi.remove(vi[-1])\n",
    "ve = ['versicolor ' * len(versicolor)]\n",
    "ve = ve[0].split(' ')\n",
    "ve.remove(ve[-1])\n",
    "labels = np.concatenate([se, vi, ve])\n",
    "f, p = stats.f_oneway(setosa['sepal_width'], virginica['sepal_width'], versicolor['sepal_width'])\n",
    "print('F Score is equal to:', f)\n",
    "print('P value is equal to:', p)\n",
    "print('-------------')\n",
    "print (pairwise_tukeyhsd(iris['sepal_width'], labels))"
   ]
  },
  {
   "cell_type": "markdown",
   "metadata": {},
   "source": [
    "** NULL HYPOTHESIS #3 REJECTED! **"
   ]
  },
  {
   "cell_type": "markdown",
   "metadata": {},
   "source": [
    "# Supervised Learning"
   ]
  },
  {
   "cell_type": "markdown",
   "metadata": {},
   "source": [
    "**Regression**"
   ]
  },
  {
   "cell_type": "markdown",
   "metadata": {},
   "source": [
    "What we are going to do:\n",
    "    **1**- Drawing a line of best fit to find if there is a relationship between sepal length and petal length of Virginica. We will also use Pearson's R.\n",
    "    **2**- Finding the mean squared error and r2 score of our line.\n",
    "    **3**- trying to predict the sepal length of three Virginicas based on their petal length."
   ]
  },
  {
   "cell_type": "code",
   "execution_count": 31,
   "metadata": {},
   "outputs": [
    {
     "name": "stdout",
     "output_type": "stream",
     "text": [
      "0.8642247329355762 6.297785758903937e-16\n",
      "Null Rejected!\n"
     ]
    }
   ],
   "source": [
    "cc, pr = stats.pearsonr(virginica['sepal_length'], virginica['petal_length'])\n",
    "print(cc, pr)\n",
    "if pr < 0.05 :\n",
    "    print('Null Rejected!')"
   ]
  },
  {
   "cell_type": "code",
   "execution_count": 32,
   "metadata": {},
   "outputs": [
    {
     "data": {
      "image/png": "[encoded data removed]",
      "text/plain": [
       "<Figure size 432x288 with 1 Axes>"
      ]
     },
     "metadata": {},
     "output_type": "display_data"
    }
   ],
   "source": [
    "plt.plot(virginica['sepal_length'], virginica['petal_length'], 'o')\n",
    "plt.ylabel('Petal Length')\n",
    "plt.xlabel('Sepal Length')\n",
    "plt.show()"
   ]
  },
  {
   "cell_type": "code",
   "execution_count": 33,
   "metadata": {},
   "outputs": [
    {
     "data": {
      "image/png": "[encoded data removed]",
      "text/plain": [
       "<Figure size 432x288 with 1 Axes>"
      ]
     },
     "metadata": {},
     "output_type": "display_data"
    }
   ],
   "source": [
    "linear_regression = linreg().fit(virginica['sepal_length'].values.reshape(-1,1), virginica['petal_length'].values.reshape(-1,1))\n",
    "predicted_petal_length = linear_regression.predict(virginica['sepal_length'].values.reshape(-1,1))\n",
    "plt.plot(virginica['sepal_length'], predicted_petal_length, color='green')\n",
    "plt.plot(virginica['sepal_length'], virginica['petal_length'], 'o')\n",
    "plt.ylabel('Petal Length')\n",
    "plt.xlabel('Sepal Length')\n",
    "plt.show()"
   ]
  },
  {
   "cell_type": "code",
   "execution_count": 34,
   "metadata": {},
   "outputs": [
    {
     "name": "stdout",
     "output_type": "stream",
     "text": [
      "Mean Squared Error is equal to: 0.07555399741581202\n",
      "R2 Score is equal to: 0.746884389017568\n"
     ]
    }
   ],
   "source": [
    "mean_squared_error = MSE(virginica['petal_length'], predicted_petal_length)\n",
    "r2_score = r2(virginica['petal_length'], predicted_petal_length)\n",
    "print('Mean Squared Error is equal to:', mean_squared_error)\n",
    "print('R2 Score is equal to:', r2_score)"
   ]
  },
  {
   "cell_type": "markdown",
   "metadata": {},
   "source": [
    "** Classification **"
   ]
  },
  {
   "cell_type": "code",
   "execution_count": 35,
   "metadata": {},
   "outputs": [],
   "source": [
    "iris_dataset = load_iris()"
   ]
  },
  {
   "cell_type": "code",
   "execution_count": 36,
   "metadata": {},
   "outputs": [
    {
     "data": {
      "text/plain": [
       "KNeighborsClassifier(algorithm='auto', leaf_size=30, metric='minkowski',\n",
       "           metric_params=None, n_jobs=1, n_neighbors=5, p=2,\n",
       "           weights='uniform')"
      ]
     },
     "execution_count": 36,
     "metadata": {},
     "output_type": "execute_result"
    }
   ],
   "source": [
    "classifier = KN(n_neighbors = 5)\n",
    "training_data, validation_data, training_labels, validation_labels = train_test_split(iris_dataset.data, iris_dataset.target, test_size = 0.2, random_state = 100)\n",
    "classifier.fit(training_data, training_labels)"
   ]
  },
  {
   "cell_type": "markdown",
   "metadata": {},
   "source": [
    "Now we want to find out how accurate our model is."
   ]
  },
  {
   "cell_type": "code",
   "execution_count": 37,
   "metadata": {},
   "outputs": [
    {
     "name": "stdout",
     "output_type": "stream",
     "text": [
      "F1 Score 1.0\n",
      "-----------\n",
      "Confusion Matrix\n",
      "[[11  0  0]\n",
      " [ 0  6  0]\n",
      " [ 0  0 13]]\n",
      "-----------\n",
      "Classification Report\n",
      "             precision    recall  f1-score   support\n",
      "\n",
      "     setosa       1.00      1.00      1.00        11\n",
      " versicolor       1.00      1.00      1.00         6\n",
      "  virginica       1.00      1.00      1.00        13\n",
      "\n",
      "avg / total       1.00      1.00      1.00        30\n",
      "\n"
     ]
    }
   ],
   "source": [
    "y_true = validation_labels\n",
    "y_pred = classifier.predict(validation_data)\n",
    "f1 = f1_score(y_true, y_pred, average='micro')  \n",
    "target_names = iris_dataset.target_names\n",
    "print('F1 Score' ,f1)\n",
    "print('-----------')\n",
    "print('Confusion Matrix')\n",
    "print(confusion_matrix(y_true, y_pred))\n",
    "print('-----------')\n",
    "print('Classification Report')\n",
    "print(classification_report(y_true, y_pred, target_names=target_names))"
   ]
  },
  {
   "cell_type": "markdown",
   "metadata": {},
   "source": [
    "Now let's see how the score changes as the n_neghibors changes."
   ]
  },
  {
   "cell_type": "code",
   "execution_count": 38,
   "metadata": {},
   "outputs": [
    {
     "data": {
      "image/png": "[encoded data removed]",
      "text/plain": [
       "<Figure size 432x288 with 1 Axes>"
      ]
     },
     "metadata": {},
     "output_type": "display_data"
    }
   ],
   "source": [
    "scores = []\n",
    "for i in range(1, 50):\n",
    "    classifier = KN(n_neighbors = i)\n",
    "    classifier.fit(training_data, training_labels)\n",
    "    scores.append(classifier.score(validation_data, validation_labels))\n",
    "plt.plot(range(1,50), scores, linestyle='--')\n",
    "plt.xlabel('N Neighbors')\n",
    "plt.ylabel('F1 Score')\n",
    "plt.xticks([5 * i for i in range(1,11)])\n",
    "plt.show()"
   ]
  },
  {
   "cell_type": "markdown",
   "metadata": {},
   "source": [
    "# Unsupervised Learning"
   ]
  },
  {
   "cell_type": "markdown",
   "metadata": {},
   "source": [
    "** K-Means Clustering **"
   ]
  },
  {
   "cell_type": "code",
   "execution_count": 39,
   "metadata": {},
   "outputs": [
    {
     "data": {
      "text/plain": [
       "<mpl_toolkits.mplot3d.art3d.Path3DCollection at 0xefa2870>"
      ]
     },
     "execution_count": 39,
     "metadata": {},
     "output_type": "execute_result"
    },
    {
     "data": {
      "image/png": "[encoded data removed]",
      "text/plain": [
       "<Figure size 432x288 with 1 Axes>"
      ]
     },
     "metadata": {},
     "output_type": "display_data"
    }
   ],
   "source": [
    "fig = plt.figure()\n",
    "ax = fig.add_subplot(111, projection='3d')\n",
    "X = iris_dataset.data[:,3]\n",
    "Y = iris_dataset.data[:,1]\n",
    "Z = iris_dataset.data[:,2]\n",
    "W = iris_dataset.data[:,0]\n",
    "ax.scatter(X, Y, Z, c=W, cmap=plt.hot())"
   ]
  },
  {
   "cell_type": "code",
   "execution_count": 40,
   "metadata": {},
   "outputs": [
    {
     "name": "stdout",
     "output_type": "stream",
     "text": [
      "[1 1 1 1 1 1 1 1 1 1 1 1 1 1 1 1 1 1 1 1 1 1 1 1 1 1 1 1 1 1 1 1 1 1 1 1 1\n",
      " 1 1 1 1 1 1 1 1 1 1 1 1 1 2 2 0 2 2 2 2 2 2 2 2 2 2 2 2 2 2 2 2 2 2 2 2 2\n",
      " 2 2 2 0 2 2 2 2 2 2 2 2 2 2 2 2 2 2 2 2 2 2 2 2 2 2 0 2 0 0 0 0 2 0 0 0 0\n",
      " 0 0 2 2 0 0 0 0 2 0 2 0 2 0 0 2 2 0 0 0 0 0 2 0 0 0 0 2 0 0 0 2 0 0 0 2 0\n",
      " 0 2]\n",
      "[0 0 0 0 0 0 0 0 0 0 0 0 0 0 0 0 0 0 0 0 0 0 0 0 0 0 0 0 0 0 0 0 0 0 0 0 0\n",
      " 0 0 0 0 0 0 0 0 0 0 0 0 0 1 1 1 1 1 1 1 1 1 1 1 1 1 1 1 1 1 1 1 1 1 1 1 1\n",
      " 1 1 1 1 1 1 1 1 1 1 1 1 1 1 1 1 1 1 1 1 1 1 1 1 1 1 2 2 2 2 2 2 2 2 2 2 2\n",
      " 2 2 2 2 2 2 2 2 2 2 2 2 2 2 2 2 2 2 2 2 2 2 2 2 2 2 2 2 2 2 2 2 2 2 2 2 2\n",
      " 2 2]\n"
     ]
    }
   ],
   "source": [
    "samples = iris_dataset.data\n",
    "\n",
    "model = KM(n_clusters = 3)\n",
    "model.fit(samples)\n",
    "print(model.predict(samples))\n",
    "print(iris_dataset.target)"
   ]
  },
  {
   "cell_type": "code",
   "execution_count": 41,
   "metadata": {},
   "outputs": [
    {
     "name": "stdout",
     "output_type": "stream",
     "text": [
      "species  b'setosa'  b'versicolor'  b'virginica'\n",
      "labels                                         \n",
      "0                0              2            36\n",
      "1               50              0             0\n",
      "2                0             48            14\n"
     ]
    }
   ],
   "source": [
    "target = iris_dataset.target\n",
    "species = np.chararray(target.shape, itemsize=150)\n",
    "for i in range(len(samples)):\n",
    "  if target[i] == 0:\n",
    "    species[i] = 'setosa'\n",
    "  elif target[i] == 1:\n",
    "    species[i] = 'versicolor'\n",
    "  elif target[i] == 2: \n",
    "    species[i] = 'virginica'\n",
    "labels = model.predict(iris_dataset.data)\n",
    "df = pd.DataFrame({'labels': labels, 'species': species})\n",
    "ct = pd.crosstab(df['labels'], df['species'])\n",
    "print(ct)"
   ]
  },
  {
   "cell_type": "markdown",
   "metadata": {},
   "source": [
    "Finding best K:"
   ]
  },
  {
   "cell_type": "code",
   "execution_count": 52,
   "metadata": {},
   "outputs": [
    {
     "name": "stdout",
     "output_type": "stream",
     "text": [
      "[680.8244, 152.36870647733906, 78.94084142614602, 57.31787321428571, 46.53558205128205, 38.953730364980366, 34.32652991452992, 29.963345571095573, 28.244640892733]\n"
     ]
    },
    {
     "data": {
      "image/png": "[encoded data removed]",
      "text/plain": [
       "<Figure size 432x288 with 1 Axes>"
      ]
     },
     "metadata": {},
     "output_type": "display_data"
    }
   ],
   "source": [
    "inertias = []\n",
    "for i in range(1,10):\n",
    "    model = KM(n_clusters = i)\n",
    "    model.fit(samples)\n",
    "    inertias.append(model.inertia_)\n",
    "print(inertias)\n",
    "plt.plot(range(1,10), inertias, '-o')\n",
    "plt.show()"
   ]
  }
 ],
 "metadata": {
  "kernelspec": {
   "display_name": "Python 3",
   "language": "python",
   "name": "python3"
  },
  "language_info": {
   "codemirror_mode": {
    "name": "ipython",
    "version": 3
   },
   "file_extension": ".py",
   "mimetype": "text/x-python",
   "name": "python",
   "nbconvert_exporter": "python",
   "pygments_lexer": "ipython3",
   "version": "3.6.5"
  }
 },
 "nbformat": 4,
 "nbformat_minor": 2
}
